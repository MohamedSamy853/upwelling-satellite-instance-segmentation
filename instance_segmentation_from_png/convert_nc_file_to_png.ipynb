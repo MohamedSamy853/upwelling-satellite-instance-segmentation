{
 "cells": [
  {
   "cell_type": "code",
   "execution_count": 1,
   "metadata": {},
   "outputs": [],
   "source": [
    "import os\n",
    "import netCDF4 as nc\n",
    "import matplotlib.pyplot as plt\n",
    "from matplotlib import colors"
   ]
  },
  {
   "cell_type": "code",
   "execution_count": 3,
   "metadata": {},
   "outputs": [
    {
     "name": "stdout",
     "output_type": "stream",
     "text": [
      "\n"
     ]
    }
   ],
   "source": [
    "os.mkdir(\"../from_nc_file/images\")"
   ]
  },
  {
   "cell_type": "code",
   "execution_count": null,
   "metadata": {},
   "outputs": [],
   "source": [
    "cmap = colors.ListedColormap([\"#93006C\",\"#6F0090\",\"#4800B7\",\"#2100DE\",\"#000AFF\",\"#004AFF\",\"#0090FF\",\"#00D5FF\",\"#00FFD7\",\"#00FF77\",\"#00FF0F\",\"#60FF00\",\"#C8FF00\",\"#FFEB00\",\"#FFB700\",\"#FF8300\",\"#FF4F00\",\"#FF1F00\",\"#E60000\",\"#A50000\",\"#690000\"])\n",
    "\n",
    "for i , file in enumerate(os.listdir(\"../from_nc_file/data/data/images/\")):\n",
    "    sst = nc.Dataset(os.path.join(\"../from_nc_file/data/data/images/\" , file))\n",
    "    sst4 = sst['sst4'][:]\n",
    "    norm=colors.Normalize(sst.data_minimum , sst.data_maximum)\n",
    "    image = cmap(norm(sst4))\n",
    "    plt.imsave(\"../from_nc_file/images/image{val}.png\".format(val = i+1), image)"
   ]
  }
 ],
 "metadata": {
  "kernelspec": {
   "display_name": "base",
   "language": "python",
   "name": "python3"
  },
  "language_info": {
   "codemirror_mode": {
    "name": "ipython",
    "version": 3
   },
   "file_extension": ".py",
   "mimetype": "text/x-python",
   "name": "python",
   "nbconvert_exporter": "python",
   "pygments_lexer": "ipython3",
   "version": "3.9.13"
  },
  "orig_nbformat": 4,
  "vscode": {
   "interpreter": {
    "hash": "57bc2b6ce032b5f0e93daa91901b7ea38a856826ef43aa9e95b6d3999f5310df"
   }
  }
 },
 "nbformat": 4,
 "nbformat_minor": 2
}
